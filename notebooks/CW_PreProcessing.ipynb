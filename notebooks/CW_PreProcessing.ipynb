{
 "cells": [
  {
   "cell_type": "markdown",
   "id": "c1761770",
   "metadata": {},
   "source": [
    "# Data Preprocessing"
   ]
  },
  {
   "cell_type": "markdown",
   "id": "76ce0891",
   "metadata": {},
   "source": [
    "### Importing libraries"
   ]
  },
  {
   "cell_type": "code",
   "execution_count": 71,
   "id": "4fd2a42a",
   "metadata": {},
   "outputs": [],
   "source": [
    "import pandas as pd"
   ]
  },
  {
   "cell_type": "markdown",
   "id": "d2fbbe0c",
   "metadata": {},
   "source": [
    "### Importing the dataset"
   ]
  },
  {
   "cell_type": "code",
   "execution_count": 72,
   "id": "d234eab1",
   "metadata": {},
   "outputs": [],
   "source": [
    "cars = pd.read_csv('original_used_cars_data.csv', low_memory=False)"
   ]
  },
  {
   "cell_type": "code",
   "execution_count": 73,
   "id": "ee64fa74",
   "metadata": {},
   "outputs": [
    {
     "name": "stdout",
     "output_type": "stream",
     "text": [
      "<class 'pandas.core.frame.DataFrame'>\n",
      "RangeIndex: 3000040 entries, 0 to 3000039\n",
      "Data columns (total 66 columns):\n",
      " #   Column                   Dtype  \n",
      "---  ------                   -----  \n",
      " 0   vin                      object \n",
      " 1   back_legroom             object \n",
      " 2   bed                      object \n",
      " 3   bed_height               object \n",
      " 4   bed_length               object \n",
      " 5   body_type                object \n",
      " 6   cabin                    object \n",
      " 7   city                     object \n",
      " 8   city_fuel_economy        float64\n",
      " 9   combine_fuel_economy     float64\n",
      " 10  daysonmarket             int64  \n",
      " 11  dealer_zip               object \n",
      " 12  description              object \n",
      " 13  engine_cylinders         object \n",
      " 14  engine_displacement      float64\n",
      " 15  engine_type              object \n",
      " 16  exterior_color           object \n",
      " 17  fleet                    object \n",
      " 18  frame_damaged            object \n",
      " 19  franchise_dealer         bool   \n",
      " 20  franchise_make           object \n",
      " 21  front_legroom            object \n",
      " 22  fuel_tank_volume         object \n",
      " 23  fuel_type                object \n",
      " 24  has_accidents            object \n",
      " 25  height                   object \n",
      " 26  highway_fuel_economy     float64\n",
      " 27  horsepower               float64\n",
      " 28  interior_color           object \n",
      " 29  isCab                    object \n",
      " 30  is_certified             float64\n",
      " 31  is_cpo                   object \n",
      " 32  is_new                   bool   \n",
      " 33  is_oemcpo                object \n",
      " 34  latitude                 float64\n",
      " 35  length                   object \n",
      " 36  listed_date              object \n",
      " 37  listing_color            object \n",
      " 38  listing_id               int64  \n",
      " 39  longitude                float64\n",
      " 40  main_picture_url         object \n",
      " 41  major_options            object \n",
      " 42  make_name                object \n",
      " 43  maximum_seating          object \n",
      " 44  mileage                  float64\n",
      " 45  model_name               object \n",
      " 46  owner_count              float64\n",
      " 47  power                    object \n",
      " 48  price                    float64\n",
      " 49  salvage                  object \n",
      " 50  savings_amount           int64  \n",
      " 51  seller_rating            float64\n",
      " 52  sp_id                    float64\n",
      " 53  sp_name                  object \n",
      " 54  theft_title              object \n",
      " 55  torque                   object \n",
      " 56  transmission             object \n",
      " 57  transmission_display     object \n",
      " 58  trimId                   object \n",
      " 59  trim_name                object \n",
      " 60  vehicle_damage_category  float64\n",
      " 61  wheel_system             object \n",
      " 62  wheel_system_display     object \n",
      " 63  wheelbase                object \n",
      " 64  width                    object \n",
      " 65  year                     int64  \n",
      "dtypes: bool(2), float64(14), int64(4), object(46)\n",
      "memory usage: 1.4+ GB\n"
     ]
    }
   ],
   "source": [
    "cars.info()"
   ]
  },
  {
   "cell_type": "markdown",
   "id": "0fb12f9c",
   "metadata": {},
   "source": [
    "### Dropping the rows with values that have a Salvage value of True since those are cars that an insurance company no longer considers fit for use on the road in its current state"
   ]
  },
  {
   "cell_type": "code",
   "execution_count": 74,
   "id": "70a908d8",
   "metadata": {},
   "outputs": [],
   "source": [
    "cars_df = cars.drop(cars[(cars['salvage'] == True)].index)"
   ]
  },
  {
   "cell_type": "markdown",
   "id": "9bca3b1b",
   "metadata": {},
   "source": [
    "### Dropping the columns corresponding to commercial vehicles since our focus is on passenger vehicles. "
   ]
  },
  {
   "cell_type": "code",
   "execution_count": 75,
   "id": "456c4290",
   "metadata": {},
   "outputs": [],
   "source": [
    "cars_df = cars_df[~(cars_df['bed_height'].notna() | cars_df['bed_length'].notna() | cars_df['bed'].notna() | cars_df['cabin'].notna())]"
   ]
  },
  {
   "cell_type": "code",
   "execution_count": 76,
   "id": "68de9ee1",
   "metadata": {},
   "outputs": [],
   "source": [
    "cars_df = cars_df.drop(cars_df[(cars_df['body_type'] == 'Wagon') | (cars_df['body_type'] == 'Minivan') | (cars_df['body_type'] == 'Van' )].index)                                                                                             "
   ]
  },
  {
   "cell_type": "markdown",
   "id": "4d27703e",
   "metadata": {},
   "source": [
    "### Dropping the null values. \n",
    "\n",
    "The decision to drop null values from the dataset is a deliberate choice aimed at optimizing the accuracy of our used car price prediction model. The dataset encompasses a diverse range of cars, spanning from affordable low-end models to luxurious vehicles. In this heterogeneous landscape, each car's unique set of features plays a crucial role in determining its market value.\n",
    "\n",
    "Imputing null values with central tendency measures, such as mean or median, could potentially introduce biases and inaccuracies into our predictive model.The central tendency measures are aggregate statistics that may not adequately capture the nuanced variations within different car segments.\n",
    "\n",
    "By strategically choosing to drop rows with null values, we ensure that our model focuses on analyzing and learning from complete and representative data points. This approach allows the algorithm to discern patterns and correlations specific to each car category, leading to a more robust and accurate prediction of used car prices."
   ]
  },
  {
   "cell_type": "code",
   "execution_count": 77,
   "id": "a320f036",
   "metadata": {},
   "outputs": [],
   "source": [
    "cars_df = cars_df.dropna(subset = ['daysonmarket', 'engine_displacement', 'frame_damaged', 'highway_fuel_economy', 'listed_date', 'mileage', 'torque', 'city', 'engine_type','fuel_type','horsepower','model_name','transmission','wheel_system','city_fuel_economy','exterior_color','has_accidents','interior_color','is_new','make_name','owner_count','transmission_display','year','isCab','maximum_seating','price','theft_title','trim_name','body_type','salvage'])"
   ]
  },
  {
   "cell_type": "markdown",
   "id": "142a3fc1",
   "metadata": {},
   "source": [
    "## Dealing with the other features"
   ]
  },
  {
   "cell_type": "markdown",
   "id": "5bd456b7",
   "metadata": {},
   "source": [
    "•\tAesthetic features - exterior_color, interior_color, listing_color, major_options: These features are related to the aesthetics of the car, and they typically do not have a significant impact on the overall price prediction. Moreover, the color preference and optional features can be highly subjective and may not contribute much to the model's accuracy.\n",
    " \n",
    "•\ttransmission: same as transmission_display which has a detailed description for the type of transmission and has been included in our dataset.\n",
    " \n",
    "•\ttrimId: same as trim_name which has a detailed description for the type of trim and has been included in our dataset.\n",
    " \n",
    "•\tpower: can be derived from torque and horsepower which are included in the dataset.\n",
    " \n",
    "•\tlisted_date: provides the same information as daysonmarket column, which is numerical and ready to use and has been included in our dataset \n",
    " \n",
    "•\tvin: Vehicle identification numbers are usually used for tracking and administrative purposes and do not have correlation with pricing. \n",
    " \n",
    "•\tengine_cylinders: same information given by engine_type, which is included in the dataset.\n",
    " \n",
    "•\tcombine_fuel_economy: city and highway fuel economy are included. Hence, this column is ignored. \n",
    " \n",
    "•\tcabin, fleet: for commercial vehicles, hence ignored\n",
    " \n",
    "•\tfuel_tank_volume, front_legroom: most vehicles have the same values for these features. Not a major decisive factor\n",
    " \n",
    "•\twheel_system_display: same as wheel_system which is included in dataset.\n",
    " \n",
    "•\tlisting_id, description, seller_rating: additional documentation for administrative purposes that have no bearing on pricing of the car.\n",
    " \n",
    "•\tis_certified: Dataset is having only Null Values for this column\n",
    "\n",
    "•\tmain_picture_url: The links are broken\n",
    "\n",
    "•\tvehicle_damage_category: Dataset is having only Null Values for this column\n",
    "\n",
    "•\twheelbase: while important for certain aspects of vehicle performance and comfort, may not exert a direct and substantial influence on used car prices in comparison to other features. Buyers typically prioritize factors such as make, model, mileage, and condition when determining the value of a used car.\n",
    "\n",
    "•\tSeveral dimensional features ('width', 'height', 'length', 'wheelbase', 'bed_length', 'bed_height', 'front_legroom', 'back_legroom'): While these features describe the physical dimensions of the car, they might not be the primary factors affecting the price. These features could be highly correlated with each other and might not add significant information to the model.\n",
    "\n",
    "•\tGeographical features ('dealer_zip', 'latitude', 'longitude'): Since the city column provides all this information in a single column, using 'city' instead of these.\n",
    "\n",
    "•\t'is_certified', 'is_cpo', 'is_oemcpo': Missing values\n",
    "\n",
    "•\t'franchise_dealer', 'franchise_make',sp_id', 'sp_name': the same information is provided by model_name and make_name. Hence, are redundant."
   ]
  },
  {
   "cell_type": "code",
   "execution_count": 78,
   "id": "164d76b4",
   "metadata": {},
   "outputs": [],
   "source": [
    "cars_df = cars_df.drop(['exterior_color','interior_color','transmission','salvage','listed_date','vin','cabin','fuel_tank_volume','is_certified','main_picture_url','savings_amount','vehicle_damage_category', 'wheelbase', 'back_legroom', 'dealer_zip', 'franchise_dealer','is_cpo','listing_color','major_options','seller_rating','width','bed','description','franchise_make','listing_id','sp_id','wheel_system_display','bed_height','combine_fuel_economy','engine_cylinders','fleet','front_legroom','height','is_oemcpo','longitude','power','sp_name','trimId','bed_length','latitude','length'], axis=1)"
   ]
  },
  {
   "cell_type": "code",
   "execution_count": 79,
   "id": "98bb71f4",
   "metadata": {},
   "outputs": [
    {
     "data": {
      "text/html": [
       "<div>\n",
       "<style scoped>\n",
       "    .dataframe tbody tr th:only-of-type {\n",
       "        vertical-align: middle;\n",
       "    }\n",
       "\n",
       "    .dataframe tbody tr th {\n",
       "        vertical-align: top;\n",
       "    }\n",
       "\n",
       "    .dataframe thead th {\n",
       "        text-align: right;\n",
       "    }\n",
       "</style>\n",
       "<table border=\"1\" class=\"dataframe\">\n",
       "  <thead>\n",
       "    <tr style=\"text-align: right;\">\n",
       "      <th></th>\n",
       "      <th>body_type</th>\n",
       "      <th>city</th>\n",
       "      <th>city_fuel_economy</th>\n",
       "      <th>daysonmarket</th>\n",
       "      <th>engine_displacement</th>\n",
       "      <th>engine_type</th>\n",
       "      <th>frame_damaged</th>\n",
       "      <th>fuel_type</th>\n",
       "      <th>has_accidents</th>\n",
       "      <th>highway_fuel_economy</th>\n",
       "      <th>...</th>\n",
       "      <th>mileage</th>\n",
       "      <th>model_name</th>\n",
       "      <th>owner_count</th>\n",
       "      <th>price</th>\n",
       "      <th>theft_title</th>\n",
       "      <th>torque</th>\n",
       "      <th>transmission_display</th>\n",
       "      <th>trim_name</th>\n",
       "      <th>wheel_system</th>\n",
       "      <th>year</th>\n",
       "    </tr>\n",
       "  </thead>\n",
       "  <tbody>\n",
       "    <tr>\n",
       "      <th>12</th>\n",
       "      <td>Sedan</td>\n",
       "      <td>Guaynabo</td>\n",
       "      <td>22.0</td>\n",
       "      <td>1233</td>\n",
       "      <td>3000.0</td>\n",
       "      <td>I6</td>\n",
       "      <td>False</td>\n",
       "      <td>Gasoline</td>\n",
       "      <td>False</td>\n",
       "      <td>33.0</td>\n",
       "      <td>...</td>\n",
       "      <td>6903.0</td>\n",
       "      <td>3 Series</td>\n",
       "      <td>2.0</td>\n",
       "      <td>58995.0</td>\n",
       "      <td>False</td>\n",
       "      <td>330 lb-ft @ 1,380 RPM</td>\n",
       "      <td>8-Speed Automatic</td>\n",
       "      <td>340i xDrive Sedan AWD</td>\n",
       "      <td>AWD</td>\n",
       "      <td>2016</td>\n",
       "    </tr>\n",
       "    <tr>\n",
       "      <th>38</th>\n",
       "      <td>Sedan</td>\n",
       "      <td>Bay Shore</td>\n",
       "      <td>27.0</td>\n",
       "      <td>55</td>\n",
       "      <td>1500.0</td>\n",
       "      <td>I4</td>\n",
       "      <td>False</td>\n",
       "      <td>Gasoline</td>\n",
       "      <td>False</td>\n",
       "      <td>36.0</td>\n",
       "      <td>...</td>\n",
       "      <td>42394.0</td>\n",
       "      <td>Malibu</td>\n",
       "      <td>1.0</td>\n",
       "      <td>14639.0</td>\n",
       "      <td>False</td>\n",
       "      <td>184 lb-ft @ 2,500 RPM</td>\n",
       "      <td>6-Speed Automatic</td>\n",
       "      <td>LT FWD</td>\n",
       "      <td>FWD</td>\n",
       "      <td>2018</td>\n",
       "    </tr>\n",
       "    <tr>\n",
       "      <th>40</th>\n",
       "      <td>Coupe</td>\n",
       "      <td>Bronx</td>\n",
       "      <td>18.0</td>\n",
       "      <td>36</td>\n",
       "      <td>3500.0</td>\n",
       "      <td>V6</td>\n",
       "      <td>False</td>\n",
       "      <td>Gasoline</td>\n",
       "      <td>False</td>\n",
       "      <td>24.0</td>\n",
       "      <td>...</td>\n",
       "      <td>62251.0</td>\n",
       "      <td>RC 350</td>\n",
       "      <td>1.0</td>\n",
       "      <td>32000.0</td>\n",
       "      <td>False</td>\n",
       "      <td>280 lb-ft @ 4,800 RPM</td>\n",
       "      <td>6-Speed Automatic</td>\n",
       "      <td>AWD</td>\n",
       "      <td>AWD</td>\n",
       "      <td>2018</td>\n",
       "    </tr>\n",
       "    <tr>\n",
       "      <th>41</th>\n",
       "      <td>SUV / Crossover</td>\n",
       "      <td>Bay Shore</td>\n",
       "      <td>18.0</td>\n",
       "      <td>27</td>\n",
       "      <td>3600.0</td>\n",
       "      <td>V6</td>\n",
       "      <td>False</td>\n",
       "      <td>Gasoline</td>\n",
       "      <td>False</td>\n",
       "      <td>27.0</td>\n",
       "      <td>...</td>\n",
       "      <td>36410.0</td>\n",
       "      <td>Traverse</td>\n",
       "      <td>1.0</td>\n",
       "      <td>23723.0</td>\n",
       "      <td>False</td>\n",
       "      <td>266 lb-ft @ 2,800 RPM</td>\n",
       "      <td>9-Speed Automatic</td>\n",
       "      <td>LT Cloth FWD</td>\n",
       "      <td>FWD</td>\n",
       "      <td>2018</td>\n",
       "    </tr>\n",
       "    <tr>\n",
       "      <th>45</th>\n",
       "      <td>SUV / Crossover</td>\n",
       "      <td>Bay Shore</td>\n",
       "      <td>15.0</td>\n",
       "      <td>27</td>\n",
       "      <td>3600.0</td>\n",
       "      <td>V6</td>\n",
       "      <td>False</td>\n",
       "      <td>Gasoline</td>\n",
       "      <td>True</td>\n",
       "      <td>22.0</td>\n",
       "      <td>...</td>\n",
       "      <td>36055.0</td>\n",
       "      <td>Traverse</td>\n",
       "      <td>1.0</td>\n",
       "      <td>22422.0</td>\n",
       "      <td>False</td>\n",
       "      <td>266 lb-ft @ 3,400 RPM</td>\n",
       "      <td>6-Speed Automatic</td>\n",
       "      <td>1LT AWD</td>\n",
       "      <td>AWD</td>\n",
       "      <td>2017</td>\n",
       "    </tr>\n",
       "  </tbody>\n",
       "</table>\n",
       "<p>5 rows × 25 columns</p>\n",
       "</div>"
      ],
      "text/plain": [
       "          body_type       city  city_fuel_economy  daysonmarket  \\\n",
       "12            Sedan   Guaynabo               22.0          1233   \n",
       "38            Sedan  Bay Shore               27.0            55   \n",
       "40            Coupe      Bronx               18.0            36   \n",
       "41  SUV / Crossover  Bay Shore               18.0            27   \n",
       "45  SUV / Crossover  Bay Shore               15.0            27   \n",
       "\n",
       "    engine_displacement engine_type frame_damaged fuel_type has_accidents  \\\n",
       "12               3000.0          I6         False  Gasoline         False   \n",
       "38               1500.0          I4         False  Gasoline         False   \n",
       "40               3500.0          V6         False  Gasoline         False   \n",
       "41               3600.0          V6         False  Gasoline         False   \n",
       "45               3600.0          V6         False  Gasoline          True   \n",
       "\n",
       "    highway_fuel_economy  ...  mileage model_name  owner_count    price  \\\n",
       "12                  33.0  ...   6903.0   3 Series          2.0  58995.0   \n",
       "38                  36.0  ...  42394.0     Malibu          1.0  14639.0   \n",
       "40                  24.0  ...  62251.0     RC 350          1.0  32000.0   \n",
       "41                  27.0  ...  36410.0   Traverse          1.0  23723.0   \n",
       "45                  22.0  ...  36055.0   Traverse          1.0  22422.0   \n",
       "\n",
       "   theft_title                 torque transmission_display  \\\n",
       "12       False  330 lb-ft @ 1,380 RPM    8-Speed Automatic   \n",
       "38       False  184 lb-ft @ 2,500 RPM    6-Speed Automatic   \n",
       "40       False  280 lb-ft @ 4,800 RPM    6-Speed Automatic   \n",
       "41       False  266 lb-ft @ 2,800 RPM    9-Speed Automatic   \n",
       "45       False  266 lb-ft @ 3,400 RPM    6-Speed Automatic   \n",
       "\n",
       "                trim_name  wheel_system  year  \n",
       "12  340i xDrive Sedan AWD           AWD  2016  \n",
       "38                 LT FWD           FWD  2018  \n",
       "40                    AWD           AWD  2018  \n",
       "41           LT Cloth FWD           FWD  2018  \n",
       "45                1LT AWD           AWD  2017  \n",
       "\n",
       "[5 rows x 25 columns]"
      ]
     },
     "execution_count": 79,
     "metadata": {},
     "output_type": "execute_result"
    }
   ],
   "source": [
    "cars_df.head()"
   ]
  },
  {
   "cell_type": "markdown",
   "id": "956c48f8",
   "metadata": {},
   "source": [
    "### Excluding cars listed for sale before the year 2000\n",
    "This decision is driven by the intention to focus our study on more recent and contemporary vehicle models. "
   ]
  },
  {
   "cell_type": "code",
   "execution_count": 80,
   "id": "aec4dafb",
   "metadata": {},
   "outputs": [],
   "source": [
    "cars_df = cars_df.drop(cars_df[cars_df['year'] < 2000].index)"
   ]
  },
  {
   "cell_type": "markdown",
   "id": "74c67596",
   "metadata": {},
   "source": [
    "### Removing units from the Torque column and extracting just the number"
   ]
  },
  {
   "cell_type": "code",
   "execution_count": 81,
   "id": "8aa1cc05",
   "metadata": {},
   "outputs": [],
   "source": [
    "cars_df['torque_lbft'] = cars_df['torque'].str.extract(r'(\\d+) lb-ft').astype(int)"
   ]
  },
  {
   "cell_type": "code",
   "execution_count": 82,
   "id": "7dd1ee3a",
   "metadata": {},
   "outputs": [],
   "source": [
    "cars_df.drop('torque', axis=1, inplace=True)\n",
    "cars_df.rename(columns={'torque_lbft': 'torque'}, inplace=True)"
   ]
  },
  {
   "cell_type": "markdown",
   "id": "9c6fa1ce",
   "metadata": {},
   "source": [
    "### Removing duplicates from the data"
   ]
  },
  {
   "cell_type": "code",
   "execution_count": 83,
   "id": "c70ec35b",
   "metadata": {},
   "outputs": [],
   "source": [
    "cars_df = cars_df.drop_duplicates()"
   ]
  },
  {
   "cell_type": "markdown",
   "id": "20a1dfbe",
   "metadata": {},
   "source": [
    "### Selecting a random sample comprising 10% of the entire cleaned dataset to enhance computational feasibility"
   ]
  },
  {
   "cell_type": "code",
   "execution_count": 84,
   "id": "dcebb2b5",
   "metadata": {},
   "outputs": [],
   "source": [
    "cars_sample = cars_df.sample(frac=0.1, random_state=42)"
   ]
  },
  {
   "cell_type": "code",
   "execution_count": 85,
   "id": "b58041f2",
   "metadata": {},
   "outputs": [
    {
     "name": "stdout",
     "output_type": "stream",
     "text": [
      "<class 'pandas.core.frame.DataFrame'>\n",
      "Int64Index: 92539 entries, 1811037 to 267503\n",
      "Data columns (total 25 columns):\n",
      " #   Column                Non-Null Count  Dtype  \n",
      "---  ------                --------------  -----  \n",
      " 0   body_type             92539 non-null  object \n",
      " 1   city                  92539 non-null  object \n",
      " 2   city_fuel_economy     92539 non-null  float64\n",
      " 3   daysonmarket          92539 non-null  int64  \n",
      " 4   engine_displacement   92539 non-null  float64\n",
      " 5   engine_type           92539 non-null  object \n",
      " 6   frame_damaged         92539 non-null  object \n",
      " 7   fuel_type             92539 non-null  object \n",
      " 8   has_accidents         92539 non-null  object \n",
      " 9   highway_fuel_economy  92539 non-null  float64\n",
      " 10  horsepower            92539 non-null  float64\n",
      " 11  isCab                 92539 non-null  object \n",
      " 12  is_new                92539 non-null  bool   \n",
      " 13  make_name             92539 non-null  object \n",
      " 14  maximum_seating       92539 non-null  object \n",
      " 15  mileage               92539 non-null  float64\n",
      " 16  model_name            92539 non-null  object \n",
      " 17  owner_count           92539 non-null  float64\n",
      " 18  price                 92539 non-null  float64\n",
      " 19  theft_title           92539 non-null  object \n",
      " 20  transmission_display  92539 non-null  object \n",
      " 21  trim_name             92539 non-null  object \n",
      " 22  wheel_system          92539 non-null  object \n",
      " 23  year                  92539 non-null  int64  \n",
      " 24  torque                92539 non-null  int64  \n",
      "dtypes: bool(1), float64(7), int64(3), object(14)\n",
      "memory usage: 17.7+ MB\n"
     ]
    }
   ],
   "source": [
    "cars_sample.info()"
   ]
  },
  {
   "cell_type": "code",
   "execution_count": 86,
   "id": "daf01b42",
   "metadata": {},
   "outputs": [],
   "source": [
    "cars_sample.to_csv('used_cars_data.csv', index=False)"
   ]
  },
  {
   "cell_type": "code",
   "execution_count": null,
   "id": "a5dad444",
   "metadata": {},
   "outputs": [],
   "source": []
  }
 ],
 "metadata": {
  "kernelspec": {
   "display_name": "Python 3 (ipykernel)",
   "language": "python",
   "name": "python3"
  },
  "language_info": {
   "codemirror_mode": {
    "name": "ipython",
    "version": 3
   },
   "file_extension": ".py",
   "mimetype": "text/x-python",
   "name": "python",
   "nbconvert_exporter": "python",
   "pygments_lexer": "ipython3",
   "version": "3.11.4"
  }
 },
 "nbformat": 4,
 "nbformat_minor": 5
}
