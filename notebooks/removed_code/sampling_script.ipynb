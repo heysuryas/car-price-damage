{
 "cells": [
  {
   "cell_type": "code",
   "execution_count": 7,
   "id": "46081b5e",
   "metadata": {},
   "outputs": [],
   "source": [
    "import pandas as pd\n",
    "\n",
    "#defining a variable that hold the path to the csv file\n",
    "csv_file ='D:/Downloads_after_1404/filtereddata.csv'\n",
    "\n",
    "#loading the contents of the csv file to a dataframe\n",
    "df = pd.read_csv(csv_file)\n",
    "\n",
    "#filtering out the unwanted rows from the df\n",
    "df = df.drop(df[(df['body_type'] == 'Wagon') | (df['body_type'] == 'Minivan') | (df['body_type'] == 'Van' )].index) \n",
    "df = df.drop(df[df['year'] < 2000].index)\n",
    "#sampling the data - 10%\n",
    "sampled_df = df.sample(frac=0.1, random_state=42)\n",
    "\n",
    "sampled_df.to_csv('D:/semester2/Machine_learning/coursework/filtered_sample.csv')"
   ]
  }
 ],
 "metadata": {
  "kernelspec": {
   "display_name": "Python 3 (ipykernel)",
   "language": "python",
   "name": "python3"
  },
  "language_info": {
   "codemirror_mode": {
    "name": "ipython",
    "version": 3
   },
   "file_extension": ".py",
   "mimetype": "text/x-python",
   "name": "python",
   "nbconvert_exporter": "python",
   "pygments_lexer": "ipython3",
   "version": "3.11.4"
  }
 },
 "nbformat": 4,
 "nbformat_minor": 5
}
