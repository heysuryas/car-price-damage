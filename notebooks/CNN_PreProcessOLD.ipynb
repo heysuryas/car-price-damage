{
 "cells": [
  {
   "cell_type": "markdown",
   "metadata": {},
   "source": [
    "### This notebook reduces the file sizes of both damage and body datasets."
   ]
  },
  {
   "cell_type": "code",
   "execution_count": 3,
   "metadata": {},
   "outputs": [],
   "source": [
    "import os\n",
    "import random\n",
    "import shutil\n",
    "from PIL import Image\n",
    "\n",
    "def process_and_copy_images(source_dir, dest_dir, percentage, target_size=(128, 128), format='JPEG'):\n",
    "    \"\"\"\n",
    "    Processes images by resizing and changing format, then copies a percentage of \n",
    "    these images to a destination directory while maintaining the folder structure.\n",
    "\n",
    "    :param source_dir: The source directory containing subfolders with images.\n",
    "    :param dest_dir: The destination directory where processed images will be copied.\n",
    "    :param percentage: The percentage of images to select from each subfolder.\n",
    "    :param target_size: The target size to which images will be resized.\n",
    "    :param format: The image format to be used for saving the processed images.\n",
    "    \"\"\"\n",
    "    # Ensure the destination directory exists\n",
    "    if not os.path.exists(dest_dir):\n",
    "        os.makedirs(dest_dir)\n",
    "\n",
    "    # Iterate through the subdirectories in the source directory\n",
    "    for subdir in os.listdir(source_dir):\n",
    "        subdir_path = os.path.join(source_dir, subdir)\n",
    "        \n",
    "        # Skip if it's not a directory\n",
    "        if not os.path.isdir(subdir_path):\n",
    "            continue\n",
    "\n",
    "        # List all image files in the subdirectory\n",
    "        files = [f for f in os.listdir(subdir_path) if f.lower().endswith(('.png', '.jpg', '.jpeg'))]\n",
    "        # Randomly select a percentage of the files\n",
    "        selected_files = random.sample(files, max(1, len(files) * percentage // 100))\n",
    "\n",
    "        # Create corresponding subdirectory in destination directory\n",
    "        dest_subdir = os.path.join(dest_dir, subdir)\n",
    "        if not os.path.exists(dest_subdir):\n",
    "            os.makedirs(dest_subdir)\n",
    "\n",
    "        # Process and copy the selected files to the destination subdirectory\n",
    "        for file in selected_files:\n",
    "            file_path = os.path.join(subdir_path, file)\n",
    "            with Image.open(file_path) as img:\n",
    "                # Resize and convert format\n",
    "                img = img.resize(target_size)\n",
    "                # Save processed image in destination directory\n",
    "                new_filepath = os.path.join(dest_subdir, os.path.splitext(file)[0] + '.jpg')\n",
    "                img.save(new_filepath, format=format)\n",
    "\n",
    "# Paths for the source and destination directories\n",
    "# Replace these with the actual paths to your directories\n",
    "body_source_test_dir = '/Users/sachin/My Files/Data Science/Playground/group-coursework-sa3n/data/body/test'\n",
    "body_source_train_dir = '/Users/sachin/My Files/Data Science/Playground/group-coursework-sa3n/data/body/train'\n",
    "body_dest_dir = '/Users/sachin/My Files/Data Science/Playground/group-coursework-sa3n/data/bodyCNN'\n",
    "\n",
    "damage_source_test_dir = '/Users/sachin/My Files/Data Science/Playground/group-coursework-sa3n/data/damage/validation'\n",
    "damage_source_train_dir = '/Users/sachin/My Files/Data Science/Playground/group-coursework-sa3n/data/damage/training'\n",
    "damage_dest_dir = '/Users/sachin/My Files/Data Science/Playground/group-coursework-sa3n/data/damageCNN'\n",
    "\n",
    "# Process and copy images from 'test' and 'train' directories\n",
    "process_and_copy_images(body_source_test_dir, os.path.join(body_dest_dir, 'test'),25)\n",
    "process_and_copy_images(body_source_train_dir, os.path.join(body_dest_dir, 'train'),25)\n",
    "\n",
    "# Process and copy images from 'test' and 'train' directories\n",
    "process_and_copy_images(damage_source_test_dir, os.path.join(damage_dest_dir, 'test'),100)\n",
    "process_and_copy_images(damage_source_train_dir, os.path.join(damage_dest_dir, 'train'),100)"
   ]
  },
  {
   "cell_type": "markdown",
   "metadata": {},
   "source": [
    "### Both datasets have reduced in size, and both are around 12 mb."
   ]
  }
 ],
 "metadata": {
  "kernelspec": {
   "display_name": "base",
   "language": "python",
   "name": "python3"
  },
  "language_info": {
   "codemirror_mode": {
    "name": "ipython",
    "version": 3
   },
   "file_extension": ".py",
   "mimetype": "text/x-python",
   "name": "python",
   "nbconvert_exporter": "python",
   "pygments_lexer": "ipython3",
   "version": "3.11.4"
  }
 },
 "nbformat": 4,
 "nbformat_minor": 2
}
