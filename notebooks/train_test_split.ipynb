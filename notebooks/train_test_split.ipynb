{
 "cells": [
  {
   "attachments": {},
   "cell_type": "markdown",
   "metadata": {},
   "source": [
    "# Train-Test Split"
   ]
  },
  {
   "attachments": {},
   "cell_type": "markdown",
   "metadata": {},
   "source": [
    "### Comparing random split and stratified shuffle split"
   ]
  },
  {
   "cell_type": "code",
   "execution_count": 1,
   "metadata": {},
   "outputs": [],
   "source": [
    "# Imports\n",
    "\n",
    "import pandas as pd\n",
    "from sklearn.model_selection import train_test_split\n",
    "from sklearn.model_selection import StratifiedShuffleSplit"
   ]
  },
  {
   "cell_type": "code",
   "execution_count": 2,
   "metadata": {},
   "outputs": [],
   "source": [
    "data = pd.read_csv('../data/pre_encoded_price_categorized.csv')\n",
    "\n",
    "# Split the data into training and testing sets (you can adjust the split ratio)\n",
    "train_set, test_set = train_test_split(data, test_size=0.2, random_state=42)"
   ]
  },
  {
   "cell_type": "code",
   "execution_count": 3,
   "metadata": {},
   "outputs": [
    {
     "name": "stdout",
     "output_type": "stream",
     "text": [
      "74036\n",
      "18510\n"
     ]
    }
   ],
   "source": [
    "print(len(train_set))\n",
    "print(len(test_set))"
   ]
  },
  {
   "cell_type": "code",
   "execution_count": 4,
   "metadata": {},
   "outputs": [],
   "source": [
    "# Using stratified sampling on the pre-encoded data to ensure the training and test sets contain representative data\n",
    "# that represents all the identified categories of price (low, mid, high)\n",
    "\n",
    "stratified_split = StratifiedShuffleSplit(n_splits=1, test_size=0.2, random_state=42)\n",
    "for train_index, test_index in stratified_split.split(data, data['price_category']):\n",
    "    train_set_sss = data.iloc[train_index]\n",
    "    test_set_sss = data.iloc[test_index]"
   ]
  },
  {
   "cell_type": "code",
   "execution_count": 5,
   "metadata": {},
   "outputs": [
    {
     "name": "stdout",
     "output_type": "stream",
     "text": [
      "74036\n",
      "18510\n"
     ]
    }
   ],
   "source": [
    "print(len(train_set_sss))\n",
    "print(len(test_set_sss))"
   ]
  },
  {
   "attachments": {},
   "cell_type": "markdown",
   "metadata": {},
   "source": [
    "### Comparison"
   ]
  },
  {
   "cell_type": "code",
   "execution_count": 6,
   "metadata": {},
   "outputs": [
    {
     "name": "stdout",
     "output_type": "stream",
     "text": [
      "Set name: original_data\n",
      "Number of rows where price_category = 0: 22908\n",
      "Number of rows where price_category = 1: 69476\n",
      "Number of rows where price_category = 2: 162\n",
      "Set name: test_set\n",
      "Number of rows where price_category = 0: 4643\n",
      "Number of rows where price_category = 1: 13833\n",
      "Number of rows where price_category = 2: 34\n",
      "Set name: stratified_test_set\n",
      "Number of rows where price_category = 0: 4582\n",
      "Number of rows where price_category = 1: 13896\n",
      "Number of rows where price_category = 2: 32\n",
      "Set name: train_set\n",
      "Number of rows where price_category = 0: 18265\n",
      "Number of rows where price_category = 1: 55643\n",
      "Number of rows where price_category = 2: 128\n",
      "Set name: stratified_train_set\n",
      "Number of rows where price_category = 0: 18326\n",
      "Number of rows where price_category = 1: 55580\n",
      "Number of rows where price_category = 2: 130\n"
     ]
    }
   ],
   "source": [
    "sets_dict = {'original_data':data, 'test_set':test_set, 'stratified_test_set':test_set_sss, 'train_set':train_set, 'stratified_train_set':train_set_sss}\n",
    "\n",
    "for df_name, df in sets_dict.items():\n",
    "\n",
    "    print(f\"Set name: {df_name}\")\n",
    "\n",
    "    # Count the number of rows where price category is 0, 1, and 2\n",
    "    count_0 = len(df[df['price_category'] == 0])\n",
    "    count_1 = len(df[df['price_category'] == 1])\n",
    "    count_2 = len(df[df['price_category'] == 2])\n",
    "\n",
    "    print(f\"Number of rows where price_category = 0: {count_0}\")\n",
    "    print(f\"Number of rows where price_category = 1: {count_1}\")\n",
    "    print(f\"Number of rows where price_category = 2: {count_2}\")"
   ]
  },
  {
   "attachments": {},
   "cell_type": "markdown",
   "metadata": {},
   "source": [
    "#### Stratified Shuffle Split gives more representative data in both training and test sets"
   ]
  },
  {
   "cell_type": "code",
   "execution_count": 7,
   "metadata": {},
   "outputs": [],
   "source": [
    "train_set_sss.to_csv('../data/training_set.csv', index=False)\n",
    "test_set_sss.to_csv('../data/test_set.csv', index=False)"
   ]
  },
  {
   "cell_type": "code",
   "execution_count": null,
   "metadata": {},
   "outputs": [],
   "source": []
  }
 ],
 "metadata": {
  "kernelspec": {
   "display_name": "Python 3",
   "language": "python",
   "name": "python3"
  },
  "language_info": {
   "codemirror_mode": {
    "name": "ipython",
    "version": 3
   },
   "file_extension": ".py",
   "mimetype": "text/x-python",
   "name": "python",
   "nbconvert_exporter": "python",
   "pygments_lexer": "ipython3",
   "version": "3.11.5"
  },
  "orig_nbformat": 4,
  "vscode": {
   "interpreter": {
    "hash": "b0fa6594d8f4cbf19f97940f81e996739fb7646882a419484c72d19e05852a7e"
   }
  }
 },
 "nbformat": 4,
 "nbformat_minor": 2
}
